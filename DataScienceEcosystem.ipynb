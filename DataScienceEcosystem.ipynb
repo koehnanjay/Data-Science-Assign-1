{
 "cells": [
  {
   "cell_type": "markdown",
   "id": "4f2f6d9f-4f44-4279-bd8d-2063ca75ffaa",
   "metadata": {},
   "source": [
    "# Data Science Tools and Ecosystem"
   ]
  },
  {
   "cell_type": "markdown",
   "id": "133f162c-da2f-457d-93e6-149dfec5bf63",
   "metadata": {},
   "source": [
    "This notebook contains summaries of: Data Science Tools and Ecosystem"
   ]
  },
  {
   "cell_type": "markdown",
   "id": "41bf1b71-d000-4a8e-9ff8-d1d70851885d",
   "metadata": {},
   "source": [
    "__Objectives__:\n",
    "- Create a Jupyter Notebook\n",
    "- Create a code cell to multiply and add numbers\n",
    "- Create a markdown cell with a table of Data Science tools\n",
    "- Create a markdown cell to list data science languages\n",
    "- Create markdown cell with title of the notebook"
   ]
  },
  {
   "cell_type": "markdown",
   "id": "138ed05d-15c6-4754-bb4d-129369fc3e8b",
   "metadata": {},
   "source": [
    "Popular languages used in Data Science are:\n",
    "1. Python\n",
    "2. SQL\n",
    "3. R"
   ]
  },
  {
   "cell_type": "markdown",
   "id": "7ddb3698-a3b6-4260-b054-a1183994331e",
   "metadata": {},
   "source": [
    "Some commonly used Data Science libraries are:\n",
    "1. ggplot\n",
    "2. Matplotlib\n",
    "3. Pandas\n"
   ]
  },
  {
   "cell_type": "markdown",
   "id": "f70e387e-b99e-42d9-8565-91a09385cacd",
   "metadata": {},
   "source": [
    "| Data Science Tools |\n",
    "|--------------------|\n",
    "|Jupyter notebook|\n",
    "|JupyterLite|\n",
    "|GoogleColab|"
   ]
  },
  {
   "cell_type": "markdown",
   "id": "657115e2-c8ed-48c0-9ecb-8cb6494f4738",
   "metadata": {},
   "source": [
    "### Here are some arithmetic expressions evaluated in Python"
   ]
  },
  {
   "cell_type": "code",
   "execution_count": 5,
   "id": "25eb9ecc-acf2-48b4-bbca-dfb41879ce3f",
   "metadata": {},
   "outputs": [
    {
     "data": {
      "text/plain": [
       "17"
      ]
     },
     "execution_count": 5,
     "metadata": {},
     "output_type": "execute_result"
    }
   ],
   "source": [
    "# This expression multiplies and then adds integers\n",
    "\n",
    "(3*4)+5"
   ]
  },
  {
   "cell_type": "code",
   "execution_count": 6,
   "id": "a130282e-f4f4-466c-8c84-5bd3304e98f1",
   "metadata": {},
   "outputs": [
    {
     "data": {
      "text/plain": [
       "3.3333333333333335"
      ]
     },
     "execution_count": 6,
     "metadata": {},
     "output_type": "execute_result"
    }
   ],
   "source": [
    "# This expression converts 200 minutes into hours, by dividing by 60\n",
    "\n",
    "200/60"
   ]
  },
  {
   "cell_type": "markdown",
   "id": "54c90dac-214b-491f-9120-6ffb7160f8aa",
   "metadata": {},
   "source": [
    "## Author\n",
    "Anjay Koehn"
   ]
  }
 ],
 "metadata": {
  "kernelspec": {
   "display_name": "Python 3",
   "language": "python",
   "name": "python3"
  },
  "language_info": {
   "codemirror_mode": {
    "name": "ipython",
    "version": 3
   },
   "file_extension": ".py",
   "mimetype": "text/x-python",
   "name": "python",
   "nbconvert_exporter": "python",
   "pygments_lexer": "ipython3",
   "version": "3.9.1"
  }
 },
 "nbformat": 4,
 "nbformat_minor": 5
}
